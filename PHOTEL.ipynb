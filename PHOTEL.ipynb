{
  "nbformat": 4,
  "nbformat_minor": 0,
  "metadata": {
    "colab": {
      "provenance": []
    },
    "kernelspec": {
      "name": "python3",
      "display_name": "Python 3"
    },
    "language_info": {
      "name": "python"
    }
  },
  "cells": [
    {
      "cell_type": "code",
      "execution_count": 2,
      "metadata": {
        "colab": {
          "base_uri": "https://localhost:8080/"
        },
        "id": "7DjIS8nv-ywM",
        "outputId": "98a759ed-8bc1-47db-ae4e-1080648dd26d"
      },
      "outputs": [
        {
          "output_type": "stream",
          "name": "stdout",
          "text": [
            "Te estabas bañando desnudo en la playa, al salir te das cuenta que tu ropa a desaparecido. ¿Como llegarias al hotel?\n",
            "Tienes tres objetos que te pueden ayudar a llegar al hotel: Una soga, Una ballesta y poderes hipnóticos. Puedes elegir uno o no usar nada.\n",
            "Elige uno de los objetos: 'soga' , 'ballesta' 'poderes' , 'nada' nada\n",
            "Decides no tener verguenza y caminar desnudo al hotel.\n",
            "Llegas al hotel desnudo y sin dignidad, pero al menos lo lograste.\n"
          ]
        }
      ],
      "source": [
        "import random\n",
        "\n",
        "def usar_objeto(opcion):\n",
        "\n",
        "    if opcion == \"soga\":\n",
        "        print(\"Usas la soga para intentar hacer un taparabos.\")\n",
        "        if random.choice([True, False]):\n",
        "            print(\"Lograste crear un taparabos te lo colocas y caminas al hotel\")\n",
        "        else:\n",
        "            print(\"Tus habilidades no funcionado y no lo has logrado, intentalo otravez o elige otro objeto\")\n",
        "            return \"fallo\"\n",
        "    elif opcion == \"ballesta\":\n",
        "        print(\"Usas la ballesta para amenazar a una persona para obtener su ropa , ¿Funcionara?\")\n",
        "        if random.choice([True, False]):\n",
        "            print(\"La amenaza funciona. Obtienes la ropa y caminas al hotel.\")\n",
        "        else:\n",
        "            print(\"La amenaza no funciona. Intenta con otro objeto.\")\n",
        "            return \"fallo\"\n",
        "    elif opcion == \"poderes\":\n",
        "        print(\"Intentas Hipnotizar a una persona\")\n",
        "        if random.choice([True, False]):\n",
        "            print(\"La hipnosis funciona. Le pides su ropa, te la pones y caminas al hotel.\")\n",
        "        else:\n",
        "            print(\"La hipnosis no funciona y se rie de ti, Intenta con otro objeto.\")\n",
        "            return \"fallo\"\n",
        "    else:\n",
        "        print(\"Decides no tener verguenza y caminar desnudo al hotel.\")\n",
        "        return \"nada\"\n",
        "\n",
        "def main():\n",
        "    print(\"Te estabas bañando desnudo en la playa, al salir te das cuenta que tu ropa a desaparecido. ¿Como llegarias al hotel?\")\n",
        "    print(\"Tienes tres objetos que te pueden ayudar a llegar al hotel: Una soga, Una ballesta y poderes hipnóticos. Puedes elegir uno o no usar nada.\")\n",
        "    opcion = input(\"Elige uno de los objetos: 'soga' , 'ballesta' 'poderes' , 'nada' \").strip().lower()\n",
        "\n",
        "    resultado = usar_objeto(opcion)\n",
        "    while resultado == \"fallo\":\n",
        "        opcion = input(\"Elige otro objeto 'soga' , 'ballesta' 'poderes' , 'nada' \").strip().lower()\n",
        "        resultado = usar_objeto(opcion)\n",
        "\n",
        "    if resultado == \"nada\":\n",
        "        print(\"Llegas al hotel desnudo y sin dignidad, pero al menos lo lograste.\")\n",
        "\n",
        "if __name__ == \"__main__\":\n",
        "    main()"
      ]
    }
  ]
}