import random

def usar_objeto(opcion):
       
    if opcion == "soga":
        print("Usas la soga para intentar hacer un taparabos.")
        if random.choice([True, False]):
            print("Lograste crear un taparabos te lo colocas y caminas al hotel")
        else:
            print("Tus habilidades no funcionado y no lo has logrado, intentalo otravez o elige otro objeto")
            return "fallo"
    elif opcion == "ballesta":
        print("Usas la ballesta para amenazar a una persona para obtener su ropa , ¿Funcionara?")
        if random.choice([True, False]):
            print("La amenaza funciona. Obtienes la ropa y caminas al hotel.")
        else:
            print("La amenaza no funciona. Intenta con otro objeto.")
            return "fallo"
    elif opcion == "poderes":
        print("Intentas Hipnotizar a una persona")
        if random.choice([True, False]):
            print("La hipnosis funciona. Le pides su ropa, te la pones y caminas al hotel.")
        else:
            print("La hipnosis no funciona y se rie de ti, Intenta con otro objeto.")
            return "fallo"
    else:
        print("Decides no tener verguenza y caminar desnudo al hotel.")
        return "nada"

def main():
    print("Te estabas bañando desnudo en la playa, al salir te das cuenta que tu ropa a desaparecido. ¿Como llegarias al hotel?")
    print("Tienes tres objetos que te pueden ayudar a llegar al hotel: Una soga, Una ballesta y poderes hipnóticos. Puedes elegir uno o no usar nada.")
    opcion = input("Elige uno de los objetos: 'soga' , 'ballesta' 'poderes' , 'nada' ").strip().lower()

    resultado = usar_objeto(opcion)
    while resultado == "fallo":
        opcion = input("Elige otro objeto 'soga' , 'ballesta' 'poderes' , 'nada' ").strip().lower()
        resultado = usar_objeto(opcion)

    if resultado == "nada":
        print("Llegas al hotel desnudo y sin dignidad, pero al menos lo lograste.")

if __name__ == "__main__":
    main()

